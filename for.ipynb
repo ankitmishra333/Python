{
 "cells": [
  {
   "cell_type": "code",
   "execution_count": null,
   "id": "e6564e01",
   "metadata": {},
   "outputs": [],
   "source": [
    "a= range(1,21,1)\n",
    "for i in a:\n",
    "    print(i)"
   ]
  },
  {
   "cell_type": "markdown",
   "id": "b84d99f2",
   "metadata": {},
   "source": [
    "### different ways"
   ]
  },
  {
   "cell_type": "code",
   "execution_count": null,
   "id": "bce6f358",
   "metadata": {},
   "outputs": [],
   "source": [
    "for i in range(1,21,1):\n",
    "    print(i)"
   ]
  },
  {
   "cell_type": "code",
   "execution_count": null,
   "id": "107b280d",
   "metadata": {},
   "outputs": [],
   "source": [
    "for i in range(21):\n",
    "    print(i)"
   ]
  },
  {
   "cell_type": "code",
   "execution_count": null,
   "id": "353a9275",
   "metadata": {},
   "outputs": [],
   "source": [
    "for i in range(20,51):\n",
    "    print(i)"
   ]
  },
  {
   "cell_type": "code",
   "execution_count": null,
   "id": "1d1ea7cd",
   "metadata": {},
   "outputs": [],
   "source": [
    "for i in range(16,0,-1):\n",
    "    print(i)"
   ]
  },
  {
   "cell_type": "code",
   "execution_count": null,
   "id": "1f6195c0",
   "metadata": {},
   "outputs": [],
   "source": [
    "for i in range(-3,-16,-1):\n",
    "    print(i)"
   ]
  },
  {
   "cell_type": "code",
   "execution_count": null,
   "id": "cdbe8a1d",
   "metadata": {},
   "outputs": [],
   "source": [
    "\"\"\"for i in range(5,51,5):\n",
    "   for j in range(1,11,1):\n",
    "      print(f\"5 X {j}={i} \")\"\"\""
   ]
  },
  {
   "cell_type": "code",
   "execution_count": null,
   "id": "d066f231",
   "metadata": {},
   "outputs": [],
   "source": [
    "for i in range(5,51,5):\n",
    "    print(i)"
   ]
  },
  {
   "cell_type": "code",
   "execution_count": null,
   "id": "721094f8",
   "metadata": {},
   "outputs": [],
   "source": [
    "n=int(input(\"which table do you want to print? :\"))\n",
    "for i in range(n,(n*10)+1,n):\n",
    "    print(i)"
   ]
  },
  {
   "cell_type": "code",
   "execution_count": null,
   "id": "99136f48",
   "metadata": {},
   "outputs": [],
   "source": [
    "a=\"Ankit\"\n",
    "for i in range(5):\n",
    "    print(a[i])"
   ]
  },
  {
   "cell_type": "code",
   "execution_count": null,
   "id": "e35b68f1",
   "metadata": {},
   "outputs": [],
   "source": [
    "a=\"Ankit Mishra\"\n",
    "for i in range(len(a)):\n",
    "    print(a[i])"
   ]
  }
 ],
 "metadata": {
  "kernelspec": {
   "display_name": "Python 3",
   "language": "python",
   "name": "python3"
  },
  "language_info": {
   "codemirror_mode": {
    "name": "ipython",
    "version": 3
   },
   "file_extension": ".py",
   "mimetype": "text/x-python",
   "name": "python",
   "nbconvert_exporter": "python",
   "pygments_lexer": "ipython3",
   "version": "3.13.5"
  }
 },
 "nbformat": 4,
 "nbformat_minor": 5
}
