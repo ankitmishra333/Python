{
 "cells": [
  {
   "cell_type": "code",
   "execution_count": null,
   "id": "e6564e01",
   "metadata": {},
   "outputs": [],
   "source": [
    "a= range(1,21,1)\n",
    "for i in a:\n",
    "    print(i)"
   ]
  },
  {
   "cell_type": "markdown",
   "id": "b84d99f2",
   "metadata": {},
   "source": [
    "### different ways"
   ]
  },
  {
   "cell_type": "code",
   "execution_count": null,
   "id": "bce6f358",
   "metadata": {},
   "outputs": [],
   "source": [
    "for i in range(1,21,1):\n",
    "    print(i)"
   ]
  },
  {
   "cell_type": "code",
   "execution_count": null,
   "id": "107b280d",
   "metadata": {},
   "outputs": [],
   "source": [
    "for i in range(21):\n",
    "    print(i)"
   ]
  },
  {
   "cell_type": "code",
   "execution_count": null,
   "id": "353a9275",
   "metadata": {},
   "outputs": [],
   "source": [
    "for i in range(20,51):\n",
    "    print(i)"
   ]
  },
  {
   "cell_type": "code",
   "execution_count": null,
   "id": "1d1ea7cd",
   "metadata": {},
   "outputs": [],
   "source": [
    "for i in range(16,0,-1):\n",
    "    print(i)"
   ]
  },
  {
   "cell_type": "code",
   "execution_count": null,
   "id": "1f6195c0",
   "metadata": {},
   "outputs": [],
   "source": [
    "for i in range(-3,-16,-1):\n",
    "    print(i)"
   ]
  },
  {
   "cell_type": "code",
   "execution_count": null,
   "id": "cdbe8a1d",
   "metadata": {},
   "outputs": [],
   "source": [
    "\"\"\"for i in range(5,51,5):\n",
    "   for j in range(1,11,1):\n",
    "      print(f\"5 X {j}={i} \")\"\"\""
   ]
  },
  {
   "cell_type": "code",
   "execution_count": null,
   "id": "d066f231",
   "metadata": {},
   "outputs": [],
   "source": [
    "for i in range(5,51,5):\n",
    "    print(i)"
   ]
  },
  {
   "cell_type": "code",
   "execution_count": null,
   "id": "721094f8",
   "metadata": {},
   "outputs": [],
   "source": [
    "n=int(input(\"which table do you want to print? :\"))\n",
    "for i in range(n,(n*10)+1,n):\n",
    "    print(i)"
   ]
  },
  {
   "cell_type": "code",
   "execution_count": null,
   "id": "99136f48",
   "metadata": {},
   "outputs": [],
   "source": [
    "a=\"Ankit\"\n",
    "for i in range(5):\n",
    "    print(a[i])"
   ]
  },
  {
   "cell_type": "code",
   "execution_count": null,
   "id": "e35b68f1",
   "metadata": {},
   "outputs": [],
   "source": [
    "a=\"Ankit Mishra\"\n",
    "for i in range(len(a)):\n",
    "    print(a[i])"
   ]
  },
  {
   "cell_type": "code",
   "execution_count": null,
   "id": "0de18edf",
   "metadata": {},
   "outputs": [],
   "source": [
    "for i in range(1,21):\n",
    "    if i==15:\n",
    "        break\n",
    "    else:\n",
    "        print(i)"
   ]
  },
  {
   "cell_type": "code",
   "execution_count": null,
   "id": "183f909d",
   "metadata": {},
   "outputs": [],
   "source": [
    "for i in range(1,21):\n",
    "    if i==15:\n",
    "        continue\n",
    "    else:\n",
    "        print(i)"
   ]
  },
  {
   "cell_type": "code",
   "execution_count": null,
   "id": "a67aecb5",
   "metadata": {},
   "outputs": [],
   "source": [
    "for i in range(1,21):\n",
    "    if i==15:\n",
    "        print(\"else statement will  execute\")\n",
    "        break\n",
    "    print(i)\n",
    "else:\n",
    "        print(\"else block will execute\")"
   ]
  },
  {
   "cell_type": "code",
   "execution_count": null,
   "id": "9c8c414e",
   "metadata": {},
   "outputs": [],
   "source": [
    "a=int(input(\"Enter a number: \"))\n",
    "for i in range(1, a+1):\n",
    "    print(f\"{i}.Hello World\")"
   ]
  },
  {
   "cell_type": "markdown",
   "id": "8814a8b0",
   "metadata": {},
   "source": [
    "# print of the numbers from 1 to n"
   ]
  },
  {
   "cell_type": "code",
   "execution_count": null,
   "id": "a459258a",
   "metadata": {},
   "outputs": [],
   "source": [
    "a=int(input(\"Enter a number: \"))\n",
    "for i in range(1, a+1):\n",
    "    print(i)"
   ]
  },
  {
   "cell_type": "markdown",
   "id": "fb0e7ce7",
   "metadata": {},
   "source": [
    "# Print for Opposite numbers"
   ]
  },
  {
   "cell_type": "code",
   "execution_count": null,
   "id": "86822286",
   "metadata": {},
   "outputs": [],
   "source": [
    "a=int(input(\"Enter a number: \"))\n",
    "for i in range(a, 0, -1):\n",
    "    print(i)"
   ]
  },
  {
   "cell_type": "markdown",
   "id": "1284e096",
   "metadata": {},
   "source": [
    "\n",
    "# Multiplication Table"
   ]
  },
  {
   "cell_type": "code",
   "execution_count": 16,
   "id": "62563148",
   "metadata": {},
   "outputs": [
    {
     "name": "stdout",
     "output_type": "stream",
     "text": [
      "5 X 1 = 5\n",
      "5 X 2 = 10\n",
      "5 X 3 = 15\n",
      "5 X 4 = 20\n",
      "5 X 5 = 25\n",
      "5 X 6 = 30\n",
      "5 X 7 = 35\n",
      "5 X 8 = 40\n",
      "5 X 9 = 45\n",
      "5 X 10 = 50\n"
     ]
    }
   ],
   "source": [
    "a=int(input(\"Enter a number: \"))\n",
    "for i in range(1,11):\n",
    "    print(f\"{a} X {i} = {a*i}\") \n",
    "    "
   ]
  },
  {
   "cell_type": "markdown",
   "id": "065f8c1c",
   "metadata": {},
   "source": [
    "# Sum of n natural numbers"
   ]
  },
  {
   "cell_type": "code",
   "execution_count": 39,
   "id": "17330eb0",
   "metadata": {},
   "outputs": [
    {
     "name": "stdout",
     "output_type": "stream",
     "text": [
      "sum of total number is 15\n"
     ]
    }
   ],
   "source": [
    "a=int(input(\"Enter a number: \"))\n",
    "sum=0\n",
    "\n",
    "for i in range(1, a+1):\n",
    "    sum+=i\n",
    "print(f\"sum of total number is {sum}\")"
   ]
  },
  {
   "cell_type": "markdown",
   "id": "655fc37b",
   "metadata": {},
   "source": [
    "# Factorial"
   ]
  },
  {
   "cell_type": "code",
   "execution_count": 42,
   "id": "31043fb1",
   "metadata": {},
   "outputs": [
    {
     "name": "stdout",
     "output_type": "stream",
     "text": [
      "factorial of 5 is 120\n"
     ]
    }
   ],
   "source": [
    "a=int(input(\"Enter a number: \"))\n",
    "fact=1\n",
    "for i in range(1,a+1):\n",
    "    fact*=i\n",
    "print(f\"factorial of {a} is {fact}\")"
   ]
  },
  {
   "cell_type": "markdown",
   "id": "d0b8cf7f",
   "metadata": {},
   "source": [
    "# for sum of odd & even numbers"
   ]
  },
  {
   "cell_type": "code",
   "execution_count": 48,
   "id": "30cd352b",
   "metadata": {},
   "outputs": [
    {
     "name": "stdout",
     "output_type": "stream",
     "text": [
      "Sum of even numbers is 110\n",
      "Sum of odd numbers is 100\n"
     ]
    }
   ],
   "source": [
    "n=int(input(\"Enter a number: \"))\n",
    "even=0\n",
    "odd=0\n",
    "for i in range(1, n+1):\n",
    "    if i % 2 == 0:\n",
    "        even+= i\n",
    "    \n",
    "    else:\n",
    "        odd+= i\n",
    "print(f\"Sum of even numbers is {even}\")\n",
    "print(f\"Sum of odd numbers is {odd}\")    \n",
    "         "
   ]
  },
  {
   "cell_type": "markdown",
   "id": "170fcf10",
   "metadata": {},
   "source": [
    "\n",
    "# For Factor"
   ]
  },
  {
   "cell_type": "code",
   "execution_count": 6,
   "id": "8b4056fa",
   "metadata": {},
   "outputs": [
    {
     "name": "stdout",
     "output_type": "stream",
     "text": [
      "1\n",
      "2\n",
      "5\n",
      "10\n"
     ]
    }
   ],
   "source": [
    "n=int(input(\"Enter a number: \"))\n",
    "factor=1\n",
    "for i in range(1,n+1):\n",
    "    if  n %i!=0:\n",
    "         continue\n",
    "    else:                   \n",
    "         print(i)\n",
    "         "
   ]
  },
  {
   "cell_type": "markdown",
   "id": "8e22c4f1",
   "metadata": {},
   "source": [
    "# Perfect number"
   ]
  },
  {
   "cell_type": "code",
   "execution_count": null,
   "id": "16a528f1",
   "metadata": {},
   "outputs": [
    {
     "name": "stdout",
     "output_type": "stream",
     "text": [
      "6 is a perfect number\n"
     ]
    }
   ],
   "source": [
    "n=int(input(\"Enter a number: \"))\n",
    "count=0\n",
    "for i in range(1, n):\n",
    "    if n % i == 0:\n",
    "        sum+=i\n",
    "if sum == n:\n",
    "         print(f\"{n} is a perfect number\")\n",
    "else:\n",
    "         print(f\"{n} is not a perfect number\")   \n",
    "        \n",
    "    "
   ]
  },
  {
   "cell_type": "markdown",
   "id": "07c6b3e3",
   "metadata": {},
   "source": [
    "# Prime number"
   ]
  },
  {
   "cell_type": "code",
   "execution_count": 30,
   "id": "c225badf",
   "metadata": {},
   "outputs": [
    {
     "name": "stdout",
     "output_type": "stream",
     "text": [
      "13 is a prime number\n"
     ]
    }
   ],
   "source": [
    "n=int(input(\"Enter a number: \"))\n",
    "count=0\n",
    "for i in range(1, n+1):\n",
    "    if n % i == 0:\n",
    "        count+=1\n",
    "if count == 2:\n",
    "    print(f\"{n} is a prime number\")\n",
    "else:\n",
    "    print(f\"{n} is not a prime number\")"
   ]
  },
  {
   "cell_type": "markdown",
   "id": "6b08a8ae",
   "metadata": {},
   "source": [
    "\n",
    "# Reverse a string"
   ]
  },
  {
   "cell_type": "code",
   "execution_count": 35,
   "id": "392e64ef",
   "metadata": {},
   "outputs": [
    {
     "name": "stdout",
     "output_type": "stream",
     "text": [
      "tiknA\n"
     ]
    }
   ],
   "source": [
    "a=input(\"Enter a string: \")\n",
    "print(a[::-1])"
   ]
  },
  {
   "cell_type": "code",
   "execution_count": 40,
   "id": "dd7b86f0",
   "metadata": {},
   "outputs": [
    {
     "name": "stdout",
     "output_type": "stream",
     "text": [
      "tiknA\n"
     ]
    }
   ],
   "source": [
    "a=input(\"Enter a string: \")\n",
    "b=\"\"\n",
    "for i in range(len(a)-1,-1,-1):\n",
    "    b+= a[i]\n",
    "print(b)\n"
   ]
  },
  {
   "cell_type": "code",
   "execution_count": 48,
   "id": "c5056265",
   "metadata": {},
   "outputs": [
    {
     "name": "stdout",
     "output_type": "stream",
     "text": [
      "naman is a palindrome\n"
     ]
    }
   ],
   "source": [
    "a=input(\"Enter a string: \")\n",
    "b=\"\"\n",
    "\n",
    "for i in range(len(a)-1,-1,-1):\n",
    "    b=b+a[i]\n",
    "if b == a:\n",
    "    print(f\"{a} is a palindrome\")\n",
    "else:\n",
    "    print(f\"{a} is not a palindrome\")"
   ]
  },
  {
   "cell_type": "markdown",
   "id": "f4d92145",
   "metadata": {},
   "source": [
    "# check the alphabet ,special characters and numbers"
   ]
  },
  {
   "cell_type": "code",
   "execution_count": 3,
   "id": "895a54d2",
   "metadata": {},
   "outputs": [
    {
     "name": "stdout",
     "output_type": "stream",
     "text": [
      "Total alphabets: 1\n",
      "Total digits: 1\n",
      "Total special characters: 1\n"
     ]
    }
   ],
   "source": [
    "a=input(\"Enter a string: \")\n",
    "char=0\n",
    "dig=0\n",
    "spchr=0\n",
    "for i in a:\n",
    "    if i.isalpha():\n",
    "        char+=1\n",
    "    elif i.isdigit():\n",
    "        dig+=1\n",
    "    else:\n",
    "        spchr+=1 \n",
    "print(f\"Total alphabets: {char}\")\n",
    "print(f\"Total digits: {dig}\") \n",
    "print(f\"Total special characters: {spchr}\")          \n"
   ]
  }
 ],
 "metadata": {
  "kernelspec": {
   "display_name": "Python 3",
   "language": "python",
   "name": "python3"
  },
  "language_info": {
   "codemirror_mode": {
    "name": "ipython",
    "version": 3
   },
   "file_extension": ".py",
   "mimetype": "text/x-python",
   "name": "python",
   "nbconvert_exporter": "python",
   "pygments_lexer": "ipython3",
   "version": "3.13.5"
  }
 },
 "nbformat": 4,
 "nbformat_minor": 5
}
