{
 "cells": [
  {
   "cell_type": "code",
   "execution_count": 7,
   "id": "c2788a4f",
   "metadata": {},
   "outputs": [
    {
     "name": "stdout",
     "output_type": "stream",
     "text": [
      "both are same\n"
     ]
    }
   ],
   "source": [
    "a=int(input(\"Enter first no.\"))\n",
    "b=int(input(\"Enter Second no.\"))\n",
    "if a>b:\n",
    "      print(f\"{a} is greater no.\")\n",
    "elif b>a:\n",
    "      print(f\"{b} is greater no.\")\n",
    "else:\n",
    "      print(\"both are same\")\n"
   ]
  },
  {
   "cell_type": "code",
   "execution_count": 9,
   "id": "73607add",
   "metadata": {},
   "outputs": [
    {
     "name": "stdout",
     "output_type": "stream",
     "text": [
      "please input valid gender\n"
     ]
    }
   ],
   "source": [
    "gen=input(\"please enter your gender as character(M or F):-\")\n",
    "if gen=='M' or gen=='m':\n",
    "    print(\"good morning sir\")\n",
    "elif gen=='F' or gen=='f':\n",
    "    print(\"good morning mam\")\n",
    "else:\n",
    "    print(\"please input valid gender\")        "
   ]
  },
  {
   "cell_type": "code",
   "execution_count": 10,
   "id": "1b850c9b",
   "metadata": {},
   "outputs": [
    {
     "name": "stdout",
     "output_type": "stream",
     "text": [
      "5 is odd\n"
     ]
    }
   ],
   "source": [
    "a=int(input(\"Enter  no.\"))\n",
    "if a%2==0:\n",
    "    print(f\"{a} is even\")\n",
    "else:\n",
    "    print(f\"{a} is odd\")    "
   ]
  },
  {
   "cell_type": "code",
   "execution_count": 19,
   "id": "67b8276d",
   "metadata": {},
   "outputs": [
    {
     "name": "stdout",
     "output_type": "stream",
     "text": [
      "Ankit is not allowed to vote\n",
      "1 years is left to vote\n"
     ]
    }
   ],
   "source": [
    "name=input(\"enter your name:\")\n",
    "age=int(input(\"enter your age:\"))\n",
    "if age >=18:\n",
    "    print(f\"{name} is allowed to vote\")\n",
    "else:\n",
    "    print(f\"{name} is not allowed to vote\")\n",
    "    print(f\"{18-age} years is left to vote\")"
   ]
  },
  {
   "cell_type": "code",
   "execution_count": 23,
   "id": "f5a4c4c5",
   "metadata": {},
   "outputs": [
    {
     "name": "stdout",
     "output_type": "stream",
     "text": [
      "5678 is not a leap year\n"
     ]
    }
   ],
   "source": [
    "year=int(input(\"enter the year:\"))\n",
    "if year % 100==0 and year % 400==0:\n",
    "    print(f\"{year} is a century leap year\")\n",
    "elif year%100!=0 and year % 4==0:\n",
    "      print(f\"{year} is a leap year\")    \n",
    "else:\n",
    "     print(f\"{year} is not a leap year\")\n"
   ]
  },
  {
   "cell_type": "code",
   "execution_count": 26,
   "id": "cf67aee9",
   "metadata": {},
   "outputs": [
    {
     "name": "stdout",
     "output_type": "stream",
     "text": [
      "very hot\n"
     ]
    }
   ],
   "source": [
    "t=int(input(\"enter your temperature:-\"))\n",
    "if t<0:\n",
    "    print(\"Freezing cold\")\n",
    "elif t>=0 and t<10:\n",
    "    print(\"Very cold\")\n",
    "elif t>=10 and t<20:\n",
    "    print(\"cold\")\n",
    "elif t>=20 and t<30:\n",
    "    print(\"pleasant\")\n",
    "elif t>=30 and t<40:\n",
    "    print(\"hot\")\n",
    "else:\n",
    "    print(\"very hot\")                    "
   ]
  }
 ],
 "metadata": {
  "kernelspec": {
   "display_name": "Python 3",
   "language": "python",
   "name": "python3"
  },
  "language_info": {
   "codemirror_mode": {
    "name": "ipython",
    "version": 3
   },
   "file_extension": ".py",
   "mimetype": "text/x-python",
   "name": "python",
   "nbconvert_exporter": "python",
   "pygments_lexer": "ipython3",
   "version": "3.13.5"
  }
 },
 "nbformat": 4,
 "nbformat_minor": 5
}
