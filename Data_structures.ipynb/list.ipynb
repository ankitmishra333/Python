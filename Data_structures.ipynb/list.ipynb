{
 "cells": [
  {
   "cell_type": "markdown",
   "id": "5906ca8a",
   "metadata": {},
   "source": []
  },
  {
   "cell_type": "markdown",
   "id": "26ff6cea",
   "metadata": {},
   "source": [
    "\n",
    "# list creation and performing operation"
   ]
  },
  {
   "cell_type": "code",
   "execution_count": null,
   "id": "d789f4d5",
   "metadata": {},
   "outputs": [],
   "source": [
    "a=[12,13,14,15,16,12,14,\"hello\",12.5]a"
   ]
  },
  {
   "cell_type": "code",
   "execution_count": null,
   "id": "2ad4fe28",
   "metadata": {},
   "outputs": [],
   "source": [
    "print(a)"
   ]
  },
  {
   "cell_type": "markdown",
   "id": "b5a29b79",
   "metadata": {},
   "source": [
    "indexing"
   ]
  },
  {
   "cell_type": "code",
   "execution_count": null,
   "id": "3c752a82",
   "metadata": {},
   "outputs": [],
   "source": [
    "print(a[1])\n",
    "print(a[-1])"
   ]
  },
  {
   "cell_type": "markdown",
   "id": "e02e7f9b",
   "metadata": {},
   "source": [
    "slicing"
   ]
  },
  {
   "cell_type": "code",
   "execution_count": null,
   "id": "0eb3866f",
   "metadata": {},
   "outputs": [],
   "source": [
    "print(a[0:5])"
   ]
  },
  {
   "cell_type": "code",
   "execution_count": null,
   "id": "658765a2",
   "metadata": {},
   "outputs": [],
   "source": [
    "b=[12,13,14,15,16,12,14,12.5]"
   ]
  },
  {
   "cell_type": "code",
   "execution_count": null,
   "id": "ee248f21",
   "metadata": {},
   "outputs": [],
   "source": [
    "# 1st way using index\n",
    "for i in range(len(b)):\n",
    "    print(b[i])\n",
    "     "
   ]
  },
  {
   "cell_type": "code",
   "execution_count": null,
   "id": "c0767cac",
   "metadata": {},
   "outputs": [],
   "source": [
    "# 2nd way directly on values\n",
    "for i in b:\n",
    "    print(i)"
   ]
  },
  {
   "cell_type": "code",
   "execution_count": null,
   "id": "f36871d4",
   "metadata": {},
   "outputs": [],
   "source": [
    "print(dir(list))"
   ]
  },
  {
   "cell_type": "code",
   "execution_count": null,
   "id": "d6305bd5",
   "metadata": {},
   "outputs": [],
   "source": [
    "help(list)"
   ]
  },
  {
   "cell_type": "markdown",
   "id": "50ddc174",
   "metadata": {},
   "source": [
    "append()"
   ]
  },
  {
   "cell_type": "code",
   "execution_count": null,
   "id": "6cec9fd1",
   "metadata": {},
   "outputs": [],
   "source": [
    "l=[1,3,4,5,6,7,8,9,10]\n",
    "l.append(11)\n",
    "l.append(12)\n",
    "print(l)"
   ]
  },
  {
   "cell_type": "markdown",
   "id": "e26f68bb",
   "metadata": {},
   "source": [
    "insert()"
   ]
  },
  {
   "cell_type": "code",
   "execution_count": null,
   "id": "d7ebf367",
   "metadata": {},
   "outputs": [],
   "source": [
    "l.insert(1,2)\n",
    "print(l)"
   ]
  },
  {
   "cell_type": "markdown",
   "id": "c13d51f5",
   "metadata": {},
   "source": [
    "remove()"
   ]
  },
  {
   "cell_type": "code",
   "execution_count": null,
   "id": "7b32b028",
   "metadata": {},
   "outputs": [],
   "source": [
    "l.remove(12)\n",
    "print(l)"
   ]
  },
  {
   "cell_type": "code",
   "execution_count": null,
   "id": "00baf3a9",
   "metadata": {},
   "outputs": [],
   "source": [
    "l[0]=100\n",
    "print(l)"
   ]
  },
  {
   "cell_type": "code",
   "execution_count": null,
   "id": "6a58526f",
   "metadata": {},
   "outputs": [],
   "source": [
    "p=[-3,-5,-7,34,56,78,-76,99,58,0,-1,2,3,-4]\n",
    "print(\"positive numbers in p are:\")\n",
    "for i in p:\n",
    "    if i>=0:\n",
    "        print(i) \n",
    "print(\"negative numbers in p are:\")\n",
    "\n",
    "for i in p:\n",
    "    if i<0:\n",
    "        print(i)"
   ]
  },
  {
   "cell_type": "code",
   "execution_count": 30,
   "id": "12362b75",
   "metadata": {},
   "outputs": [
    {
     "name": "stdout",
     "output_type": "stream",
     "text": [
      "Sum of all elements in l is: 120\n",
      "8.0\n"
     ]
    }
   ],
   "source": [
    "l=[1,2,3,4,5,6,7,8,9,10,11,12,13,14,15]\n",
    "sum=0\n",
    "for i in l:\n",
    "    sum+=i\n",
    "print(\"Sum of all elements in l is:\", sum)\n",
    "\n",
    "print(sum/len(l))\n",
    "\n",
    "  "
   ]
  },
  {
   "cell_type": "code",
   "execution_count": 36,
   "id": "4ab50461",
   "metadata": {},
   "outputs": [
    {
     "name": "stdout",
     "output_type": "stream",
     "text": [
      "Greatest element in l is: 15\n",
      "Index of greatest element in l is: 14\n"
     ]
    }
   ],
   "source": [
    "l=[1,2,3,4,5,6,7,8,9,10,11,12,13,14,15]\n",
    "greatest=l[0]\n",
    "for i in range(len(l)):\n",
    "    if l[i]>greatest:\n",
    "        greatest=l[i]\n",
    "print(\"Greatest element in l is:\", greatest)\n",
    "print(\"Index of greatest element in l is:\", l.index(greatest))\n"
   ]
  },
  {
   "cell_type": "code",
   "execution_count": 46,
   "id": "3dd077f3",
   "metadata": {},
   "outputs": [
    {
     "name": "stdout",
     "output_type": "stream",
     "text": [
      "Greatest element in l is: 970\n",
      "Second greatest element in l is: 800\n"
     ]
    }
   ],
   "source": [
    "l=[1,2,3,4,5,6,7,8,9,10,11,12,13,14,15,100.,700,550,970,800]\n",
    "greatest=l[0]\n",
    "second=l[0]\n",
    "for i in l:\n",
    "    if i>greatest:\n",
    "         second=greatest\n",
    "         greatest=i\n",
    "    elif i>second:\n",
    "        second=i\n",
    "\n",
    "print(\"Greatest element in l is:\", greatest)\n",
    "#print(\"Index of greatest element in l is:\", l.index(greatest))\n",
    "print(\"Second greatest element in l is:\", second)\n",
    "#print(\"Index of second greatest element in l is:\", l.index(second))\n"
   ]
  },
  {
   "cell_type": "markdown",
   "id": "5f35b89a",
   "metadata": {},
   "source": [
    "checking the list is sorted or not"
   ]
  },
  {
   "cell_type": "code",
   "execution_count": 54,
   "id": "6baa9b5b",
   "metadata": {},
   "outputs": [
    {
     "name": "stdout",
     "output_type": "stream",
     "text": [
      "List is sorted\n"
     ]
    }
   ],
   "source": [
    "l=[1,2,3,4,5,6,7,8,9,10,11,12,13,14,15,800]\n",
    "for i in range(len(l)-1):\n",
    "    if l[i]<l[i+1]:\n",
    "        continue\n",
    "    else:\n",
    "        print(\"List is not sorted\")\n",
    "        break\n",
    "else:\n",
    "    print(\"List is sorted\")        "
   ]
  }
 ],
 "metadata": {
  "kernelspec": {
   "display_name": "Python 3",
   "language": "python",
   "name": "python3"
  },
  "language_info": {
   "codemirror_mode": {
    "name": "ipython",
    "version": 3
   },
   "file_extension": ".py",
   "mimetype": "text/x-python",
   "name": "python",
   "nbconvert_exporter": "python",
   "pygments_lexer": "ipython3",
   "version": "3.10.0"
  }
 },
 "nbformat": 4,
 "nbformat_minor": 5
}
