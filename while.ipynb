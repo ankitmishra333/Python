{
 "cells": [
  {
   "cell_type": "markdown",
   "id": "7576e7cd",
   "metadata": {},
   "source": [
    "### Separate the numbers."
   ]
  },
  {
   "cell_type": "code",
   "execution_count": 14,
   "id": "285b75a0",
   "metadata": {},
   "outputs": [
    {
     "name": "stdout",
     "output_type": "stream",
     "text": [
      "The no. is245 \n",
      "5\n",
      "4\n",
      "2\n"
     ]
    }
   ],
   "source": [
    "a=int(input(\"enter the three digit number\"))\n",
    "print(f\"The no. is{a} \")\n",
    "a>0\n",
    "while a> 0:\n",
    "    print(a%10)\n",
    "    a=a//10"
   ]
  },
  {
   "cell_type": "code",
   "execution_count": 7,
   "id": "cab456ed",
   "metadata": {},
   "outputs": [
    {
     "name": "stdout",
     "output_type": "stream",
     "text": [
      "6\n",
      "5\n",
      "2\n"
     ]
    }
   ],
   "source": [
    "a=256\n",
    "while a>0:\n",
    "    print(a%10)\n",
    "    a=a//10\n",
    "    "
   ]
  },
  {
   "cell_type": "markdown",
   "id": "49eb7839",
   "metadata": {},
   "source": [
    "### Reverse the no.\n"
   ]
  },
  {
   "cell_type": "code",
   "execution_count": 19,
   "id": "05724a42",
   "metadata": {},
   "outputs": [
    {
     "name": "stdout",
     "output_type": "stream",
     "text": [
      "The no. is 121 \n",
      "The reverse no. is 121\n"
     ]
    }
   ],
   "source": [
    "a=int(input(\"enter the three digit number\"))\n",
    "print(f\"The no. is {a} \")\n",
    "rev=0\n",
    "a>0\n",
    "while a> 0:\n",
    "    rev=rev*10+a%10\n",
    "    a=a//10\n",
    "print(f\"The reverse no. is {rev}\")"
   ]
  },
  {
   "cell_type": "code",
   "execution_count": 25,
   "id": "b18a0096",
   "metadata": {},
   "outputs": [
    {
     "name": "stdout",
     "output_type": "stream",
     "text": [
      "The no. is 121 \n",
      "The reverse no. is 121\n",
      "121 is palindrome\n"
     ]
    }
   ],
   "source": [
    "a=int(input(\"enter the three digit number\"))\n",
    "print(f\"The no. is {a} \")\n",
    "b=a\n",
    "rev=0\n",
    "a>0\n",
    "while a> 0:\n",
    "    rev=rev*10+a%10\n",
    "    a=a//10\n",
    "print(f\"The reverse no. is {rev}\")\n",
    "\n",
    "if b==rev:\n",
    "    print(f\"{b} is palindrome\")\n",
    "else:\n",
    "    print(f\"{b} is not palindrome\")  "
   ]
  },
  {
   "cell_type": "code",
   "execution_count": 14,
   "id": "6f0283a8",
   "metadata": {},
   "outputs": [
    {
     "name": "stdout",
     "output_type": "stream",
     "text": [
      "the number is greater than your guess\n",
      "the number is greater than your guess\n",
      "the number is greater than your guess\n",
      "the number is smaller than your guess\n",
      "you guessed it right, you have taken 5 tries\n"
     ]
    }
   ],
   "source": [
    "import random\n",
    "num=random.randint(1,100)\n",
    "#print(num)\n",
    "tries=0\n",
    "while True:\n",
    "\n",
    " guess=int(input(\"guess the number between 1 and 100\"))\n",
    " \n",
    " if guess==num:\n",
    "     tries+=1\n",
    "     print(f\"you guessed it right, you have taken {tries} tries\")\n",
    "     break\n",
    " elif num<guess:\n",
    "    print(\"the number is smaller than your guess\")\n",
    "    tries+=1\n",
    " elif num>guess:\n",
    "    print(\"the number is greater than your guess\")\n",
    "    tries+=1    \n",
    "\n",
    " else:\n",
    "    print(f\"you guessed it wrong, the number was {num}\")\n"
   ]
  }
 ],
 "metadata": {
  "kernelspec": {
   "display_name": "Python 3",
   "language": "python",
   "name": "python3"
  },
  "language_info": {
   "codemirror_mode": {
    "name": "ipython",
    "version": 3
   },
   "file_extension": ".py",
   "mimetype": "text/x-python",
   "name": "python",
   "nbconvert_exporter": "python",
   "pygments_lexer": "ipython3",
   "version": "3.10.0"
  }
 },
 "nbformat": 4,
 "nbformat_minor": 5
}
